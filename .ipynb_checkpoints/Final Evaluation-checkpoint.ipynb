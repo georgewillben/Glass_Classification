{
 "cells": [
  {
   "cell_type": "markdown",
   "metadata": {},
   "source": [
    "# Final Evaluation"
   ]
  },
  {
   "cell_type": "code",
   "execution_count": 1,
   "metadata": {},
   "outputs": [
    {
     "name": "stderr",
     "output_type": "stream",
     "text": [
      "Using TensorFlow backend.\n"
     ]
    }
   ],
   "source": [
    "# import libraries\n",
    "import numpy as np\n",
    "import pandas as pd\n",
    "import matplotlib.pyplot as plt\n",
    "%matplotlib inline\n",
    "\n",
    "from sklearn.svm import SVC\n",
    "from sklearn.model_selection import GridSearchCV\n",
    "from sklearn.preprocessing import StandardScaler\n",
    "from sklearn.metrics import classification_report\n",
    "from imblearn.over_sampling import SMOTE"
   ]
  },
  {
   "cell_type": "markdown",
   "metadata": {},
   "source": [
    "For the final evaluation I will use the support vector classifier. I will also take the parameters from the support vector machine notebook. It had a validation accuracy score of 93%."
   ]
  },
  {
   "cell_type": "markdown",
   "metadata": {},
   "source": [
    "# 1.1 Load data"
   ]
  },
  {
   "cell_type": "code",
   "execution_count": 2,
   "metadata": {},
   "outputs": [],
   "source": [
    "train = pd.read_csv(\"train.csv\")\n",
    "test = pd.read_csv(\"test.csv\")"
   ]
  },
  {
   "cell_type": "markdown",
   "metadata": {},
   "source": [
    "# 1.2 Preprocessing"
   ]
  },
  {
   "cell_type": "code",
   "execution_count": 4,
   "metadata": {},
   "outputs": [],
   "source": [
    "# copy rows for class 6\n",
    "copy = train[train[\"Type\"] == 6]\n",
    "train = pd.concat([train, copy], axis=0)\n",
    "\n",
    "# scaling\n",
    "X_train, y_train = train.drop(\"Type\", axis=1), train.Type\n",
    "X_test, y_test = test.drop(\"Type\", axis=1), test.Type\n",
    "\n",
    "sc = StandardScaler()\n",
    "X_train = sc.fit_transform(X_train)\n",
    "X_test = sc.transform(X_test)\n",
    "\n",
    "# resampling\n",
    "sm = SMOTE()\n",
    "X_train, y_train = sm.fit_resample(X_train, y_train)"
   ]
  },
  {
   "cell_type": "markdown",
   "metadata": {},
   "source": [
    "# 2.1 Evaluation"
   ]
  },
  {
   "cell_type": "code",
   "execution_count": 6,
   "metadata": {},
   "outputs": [
    {
     "name": "stdout",
     "output_type": "stream",
     "text": [
      "training performance\n",
      "              precision    recall  f1-score   support\n",
      "\n",
      "           1       0.78      0.94      0.85        48\n",
      "           2       0.97      0.73      0.83        48\n",
      "           3       0.92      0.96      0.94        48\n",
      "           5       1.00      1.00      1.00        48\n",
      "           6       1.00      1.00      1.00        48\n",
      "           7       1.00      1.00      1.00        48\n",
      "\n",
      "    accuracy                           0.94       288\n",
      "   macro avg       0.94      0.94      0.94       288\n",
      "weighted avg       0.94      0.94      0.94       288\n",
      "\n",
      "validation performance\n",
      "              precision    recall  f1-score   support\n",
      "\n",
      "           1       0.64      0.89      0.74        18\n",
      "           2       0.75      0.55      0.63        22\n",
      "           3       0.67      0.67      0.67         3\n",
      "           5       0.50      0.67      0.57         3\n",
      "           6       1.00      0.25      0.40         4\n",
      "           7       0.80      1.00      0.89         4\n",
      "\n",
      "    accuracy                           0.69        54\n",
      "   macro avg       0.73      0.67      0.65        54\n",
      "weighted avg       0.72      0.69      0.67        54\n",
      "\n"
     ]
    },
    {
     "name": "stderr",
     "output_type": "stream",
     "text": [
      "C:\\Users\\zasz\\Anaconda3\\lib\\site-packages\\sklearn\\svm\\base.py:193: FutureWarning: The default value of gamma will change from 'auto' to 'scale' in version 0.22 to account better for unscaled features. Set gamma explicitly to 'auto' or 'scale' to avoid this warning.\n",
      "  \"avoid this warning.\", FutureWarning)\n"
     ]
    }
   ],
   "source": [
    "# create model\n",
    "model = SVC(C=15)\n",
    "\n",
    "# fit\n",
    "model.fit(X_train, y_train)\n",
    "\n",
    "# training predictions\n",
    "train_pred = model.predict(X_train)\n",
    "\n",
    "# testing predictions\n",
    "test_pred = model.predict(X_test)\n",
    "\n",
    "# scores\n",
    "print(\"training performance\")\n",
    "print(classification_report(y_train, train_pred))\n",
    "\n",
    "print(\"validation performance\")\n",
    "print(classification_report(y_test, test_pred))"
   ]
  },
  {
   "cell_type": "markdown",
   "metadata": {},
   "source": [
    "The final model has an accuracy of 69%"
   ]
  }
 ],
 "metadata": {
  "kernelspec": {
   "display_name": "Python 3",
   "language": "python",
   "name": "python3"
  },
  "language_info": {
   "codemirror_mode": {
    "name": "ipython",
    "version": 3
   },
   "file_extension": ".py",
   "mimetype": "text/x-python",
   "name": "python",
   "nbconvert_exporter": "python",
   "pygments_lexer": "ipython3",
   "version": "3.7.3"
  }
 },
 "nbformat": 4,
 "nbformat_minor": 2
}
